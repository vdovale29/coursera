{
 "cells": [
  {
   "cell_type": "code",
   "execution_count": 1,
   "metadata": {},
   "outputs": [],
   "source": [
    "import numpy as np\n",
    "import matplotlib.pyplot as plt\n",
    "import pandas as pd\n",
    "import numpy as np\n",
    "np.set_printoptions(precision=2)\n",
    "from sklearn import preprocessing\n",
    "import pylab as pl\n",
    "import scipy.optimize as opt\n",
    "%matplotlib inline"
   ]
  },
  {
   "cell_type": "code",
   "execution_count": 2,
   "metadata": {},
   "outputs": [
    {
     "name": "stdout",
     "output_type": "stream",
     "text": [
      "Customers that paid their loans =  142\n",
      "Customers that NOT paid their loans =  58\n"
     ]
    }
   ],
   "source": [
    "df = pd.read_csv('loan.csv')\n",
    "df['default'].value_counts()\n",
    "print('Customers that paid their loans = ',df['default'].value_counts()[1])\n",
    "print('Customers that NOT paid their loans = ',df['default'].value_counts()[0])"
   ]
  },
  {
   "cell_type": "code",
   "execution_count": 3,
   "metadata": {},
   "outputs": [],
   "source": [
    "X = df[['age', 'ed', 'employ', 'address', 'income', 'debt']] .values  #.astype(float)\n",
    "X = preprocessing.StandardScaler().fit(X).transform(X.astype(float))\n",
    "y = df['default'].values"
   ]
  },
  {
   "cell_type": "code",
   "execution_count": 4,
   "metadata": {},
   "outputs": [
    {
     "name": "stdout",
     "output_type": "stream",
     "text": [
      "Train set: (160, 6) (160,)\n",
      "Test set: (40, 6) (40,)\n"
     ]
    }
   ],
   "source": [
    "from sklearn.model_selection import train_test_split\n",
    "X_train, X_test, y_train, y_test = train_test_split( X, y, test_size=0.2, random_state=4)\n",
    "print ('Train set:', X_train.shape,  y_train.shape)\n",
    "print ('Test set:', X_test.shape,  y_test.shape)"
   ]
  },
  {
   "cell_type": "code",
   "execution_count": 5,
   "metadata": {},
   "outputs": [],
   "source": [
    "acscore = np.zeros(4)\n",
    "jaccard = np.zeros(4)\n",
    "f1score = np.zeros(4)\n",
    "logloss = np.zeros(4)"
   ]
  },
  {
   "cell_type": "code",
   "execution_count": 6,
   "metadata": {},
   "outputs": [
    {
     "name": "stdout",
     "output_type": "stream",
     "text": [
      "The best accuracy was with 0.75 with k= 4\n"
     ]
    }
   ],
   "source": [
    "from sklearn.neighbors import KNeighborsClassifier\n",
    "from sklearn import metrics\n",
    "Ks = 10\n",
    "mean_acc = np.zeros((Ks-1))\n",
    "std_acc = np.zeros((Ks-1))\n",
    "for n in range(1,Ks):\n",
    "    #Train Model and Predict  \n",
    "    neigh = KNeighborsClassifier(n_neighbors = n).fit(X_train,y_train)\n",
    "    yhat=neigh.predict(X_test)\n",
    "    mean_acc[n-1] = metrics.accuracy_score(y_test, yhat)\n",
    "    std_acc[n-1]=np.std(yhat==y_test)/np.sqrt(yhat.shape[0])\n",
    "mean_acc\n",
    "print( \"The best accuracy was with\", mean_acc.max(), \"with k=\", mean_acc.argmax()+1)\n",
    "k = mean_acc.argmax()+1"
   ]
  },
  {
   "cell_type": "code",
   "execution_count": 7,
   "metadata": {},
   "outputs": [],
   "source": [
    "from sklearn.neighbors import KNeighborsClassifier\n",
    "neigh = KNeighborsClassifier(n_neighbors = k).fit(X_train,y_train)\n",
    "yhat_0 = neigh.predict(X_test)\n",
    "yhat_prob_0 = neigh.predict_proba(X_test)"
   ]
  },
  {
   "cell_type": "code",
   "execution_count": 8,
   "metadata": {},
   "outputs": [],
   "source": [
    "from sklearn.tree import DecisionTreeClassifier\n",
    "loanTree = DecisionTreeClassifier(criterion=\"entropy\", max_depth = 4)\n",
    "loanTree.fit(X_train,y_train)\n",
    "yhat_1 = loanTree.predict(X_test)\n",
    "yhat_prob_1 = loanTree.predict_proba(X_test)"
   ]
  },
  {
   "cell_type": "code",
   "execution_count": 9,
   "metadata": {},
   "outputs": [],
   "source": [
    "from sklearn.linear_model import LogisticRegression\n",
    "LR = LogisticRegression(C=0.01, solver='liblinear').fit(X_train,y_train)\n",
    "yhat_2 = LR.predict(X_test)\n",
    "yhat_prob_2 = LR.predict_proba(X_test)"
   ]
  },
  {
   "cell_type": "code",
   "execution_count": 10,
   "metadata": {},
   "outputs": [],
   "source": [
    "from sklearn import svm\n",
    "clf = svm.SVC(kernel='rbf',probability=True)\n",
    "clf.fit(X_train, y_train) \n",
    "yhat_3 = clf.predict(X_test)\n",
    "yhat_prob_3 = clf.predict_proba(X_test)"
   ]
  },
  {
   "cell_type": "code",
   "execution_count": 11,
   "metadata": {},
   "outputs": [],
   "source": [
    "from sklearn import metrics\n",
    "acscore[0] = metrics.accuracy_score(y_test, yhat_0)\n",
    "acscore[1] = metrics.accuracy_score(y_test, yhat_1)\n",
    "acscore[2] = metrics.accuracy_score(y_test, yhat_2)\n",
    "acscore[3] = metrics.accuracy_score(y_test, yhat_3)"
   ]
  },
  {
   "cell_type": "code",
   "execution_count": 12,
   "metadata": {},
   "outputs": [],
   "source": [
    "from sklearn.metrics import jaccard_score\n",
    "jaccard[0] = jaccard_score(y_test, yhat_0, average='micro')\n",
    "jaccard[1] = jaccard_score(y_test, yhat_1, average='micro')\n",
    "jaccard[2] = jaccard_score(y_test, yhat_2, average='micro')\n",
    "jaccard[3] = jaccard_score(y_test, yhat_3, average='micro')"
   ]
  },
  {
   "cell_type": "code",
   "execution_count": 13,
   "metadata": {},
   "outputs": [],
   "source": [
    "from sklearn.metrics import log_loss\n",
    "logloss[0] = log_loss(y_test, yhat_prob_0)\n",
    "logloss[1] = log_loss(y_test, yhat_prob_1)\n",
    "logloss[2] = log_loss(y_test, yhat_prob_2)\n",
    "logloss[3] = log_loss(y_test, yhat_prob_3)"
   ]
  },
  {
   "cell_type": "code",
   "execution_count": 14,
   "metadata": {},
   "outputs": [],
   "source": [
    "from sklearn.metrics import f1_score\n",
    "f1score[0] = f1_score(y_test, yhat_0, average='weighted') \n",
    "f1score[1] = f1_score(y_test, yhat_1, average='weighted') \n",
    "f1score[2] = f1_score(y_test, yhat_2, average='weighted') \n",
    "f1score[3] = f1_score(y_test, yhat_3, average='weighted') "
   ]
  },
  {
   "cell_type": "code",
   "execution_count": 15,
   "metadata": {},
   "outputs": [
    {
     "name": "stdout",
     "output_type": "stream",
     "text": [
      "Test set Accuracy =  [0.75 0.6  0.72 0.62]\n",
      "Jaccard score     =  [0.6  0.43 0.57 0.45]\n",
      "f1-score          =  [0.75 0.47 0.7  0.48]\n",
      "Log loss          =  [2.13 2.13 0.61 0.65]\n"
     ]
    }
   ],
   "source": [
    "print('Test set Accuracy = ', acscore)\n",
    "print('Jaccard score     = ', jaccard)\n",
    "print('f1-score          = ', f1score)\n",
    "print('Log loss          = ', logloss)"
   ]
  },
  {
   "cell_type": "code",
   "execution_count": 25,
   "metadata": {},
   "outputs": [
    {
     "name": "stdout",
     "output_type": "stream",
     "text": [
      "The best accuracy was with 0.75 with method  1\n",
      "The best Jaccard score was with 0.6 with method  1\n",
      "The best f1-score was with 0.75 with method  1\n",
      "The best Log loss was with 0.61 with method  3\n"
     ]
    }
   ],
   "source": [
    "print( \"The best accuracy was with\", acscore.max().round(2), \"with method \", acscore.argmax()+1)\n",
    "print( \"The best Jaccard score was with\", jaccard.max().round(2), \"with method \", jaccard.argmax()+1) \n",
    "print( \"The best f1-score was with\", f1score.max().round(2), \"with method \", f1score.argmax()+1) \n",
    "print( \"The best Log loss was with\", logloss.min().round(2), \"with method \", logloss.argmin()+1) "
   ]
  },
  {
   "cell_type": "code",
   "execution_count": 26,
   "metadata": {},
   "outputs": [
    {
     "name": "stdout",
     "output_type": "stream",
     "text": [
      "The best classifier is Method 1 that is KNN with the best accuracy, Jaccard and f1-score\n"
     ]
    }
   ],
   "source": [
    "print(\"The best classifier is Method 1 that is KNN with the best accuracy, Jaccard and f1-score\")"
   ]
  },
  {
   "cell_type": "code",
   "execution_count": null,
   "metadata": {},
   "outputs": [],
   "source": []
  }
 ],
 "metadata": {
  "kernelspec": {
   "display_name": "Python 3",
   "language": "python",
   "name": "python3"
  },
  "language_info": {
   "codemirror_mode": {
    "name": "ipython",
    "version": 3
   },
   "file_extension": ".py",
   "mimetype": "text/x-python",
   "name": "python",
   "nbconvert_exporter": "python",
   "pygments_lexer": "ipython3",
   "version": "3.8.5"
  }
 },
 "nbformat": 4,
 "nbformat_minor": 4
}
